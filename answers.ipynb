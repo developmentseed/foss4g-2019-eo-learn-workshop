{
  "cells": [
    {
      "cell_type": "markdown",
      "source": [
        "## Query the Planet with EOLearn and Sentinel Data\n",
        "\n",
        "The availability of open Earth observation (EO) data through the Copernicus and Landsat programs represents an unprecedented resource for many EO applications, ranging from ocean and land use and land cover monitoring, disaster control, emergency services and humanitarian relief. Given the large amount of high spatial resolution data at high revisit frequency, techniques able to automatically extract complex patterns in such spatio-temporal data are needed.\n",
        "\n",
        "[`eo-learn`](https://eo-learn.readthedocs.io/en/latest/) is a collection of open source Python packages that have been developed to seamlessly access and process spatio-temporal image sequences acquired by any satellite fleet in a timely and automatic manner. eo-learn is easy to use, it’s design modular, and encourages collaboration – sharing and reusing of specific tasks in a typical EO-value-extraction workflows, such as cloud masking, image co-registration, feature extraction, classification, etc. Everyone is free to use any of the available tasks and is encouraged to improve them, develop new ones and share them with the rest of the community.\n",
        "\n",
        "We'll walk through the basics of `eo-learn` and an example EO analysis workflow.\n",
        "\n",
        "![eo-learn workflow](eo-learn-illustration.png)"
      ],
      "metadata": {}
    },
    {
      "cell_type": "markdown",
      "source": [
        "## Boring Setup"
      ],
      "metadata": {}
    },
    {
      "cell_type": "code",
      "source": [
        "# Jupyter notebook related commands\n",
        "%reload_ext autoreload\n",
        "%autoreload 2\n",
        "%matplotlib inline"
      ],
      "outputs": [],
      "execution_count": null,
      "metadata": {
        "collapsed": false,
        "outputHidden": false,
        "inputHidden": false
      }
    },
    {
      "cell_type": "code",
      "source": [
        "# set our Sentinel Hub Instance ID (Workshop only)\n",
        "# Sign-up at afterwards at https://www.sentinel-hub.com/ to continue using\n",
        "!sentinelhub.config --instance_id eb3fe65f-23bf-4481-8d58-f7b8a8939b39"
      ],
      "outputs": [],
      "execution_count": null,
      "metadata": {
        "collapsed": false,
        "outputHidden": false,
        "inputHidden": false
      }
    },
    {
      "cell_type": "markdown",
      "source": [
        "## EO Learn Fundamentals\n",
        "\n",
        "`eo-learn` has three fundamental classes `EOPatch`, `EOTask` and `EOWorkflow` which are helpful to understand before undertaking a larger project"
      ],
      "metadata": {}
    },
    {
      "cell_type": "markdown",
      "source": [
        "### EOPatch\n",
        "- an **abstract representation of remotely sensed data over a single area**; the base data class of `eo-learn`\n",
        "- a collection of 10 python dicts representing various types of data along with a bounding box and timestamps\n",
        "- provides useful dimension and type checking, a consistent interface for later processing, and some convenience functions\n",
        "\n",
        "Find more details in the [documentation](https://eo-learn.readthedocs.io/en/latest/examples/core/CoreOverview.html#EOPatch)"
      ],
      "metadata": {}
    },
    {
      "cell_type": "code",
      "source": [
        "# first create an empty patch, it is instantiated with all the data types\n",
        "# each FeatureType (data, mask, scalar, ...) requires a specific type of data\n",
        "from eolearn.core import EOPatch\n",
        "\n",
        "patch = EOPatch()\n",
        "patch"
      ],
      "outputs": [],
      "execution_count": null,
      "metadata": {
        "collapsed": false,
        "outputHidden": false,
        "inputHidden": false
      }
    },
    {
      "cell_type": "code",
      "source": [
        "# the first Featuretype 'data' should be a numpy array with four dimensions, time x height x width x channel depth, to represent a time stack of remotely sensed data \n",
        "\n",
        "# create an example of satellite data with 5 dates, 10x10 pixels, and 3 bands\n",
        "import numpy as np\n",
        "example_bands = np.zeros((5, 10, 10, 3), dtype=np.uint16)\n",
        "patch.data['example'] = example_bands"
      ],
      "outputs": [],
      "execution_count": null,
      "metadata": {
        "collapsed": false,
        "outputHidden": false,
        "inputHidden": false
      }
    },
    {
      "cell_type": "code",
      "source": [
        "# EOPatches will throw an error if you give data of the wrong shape to a certain FeatureType\n",
        "\n",
        "# here's satellite data with no time component\n",
        "timeless_data = np.zeros((10, 10, 13), dtype=np.uint16)\n",
        "try:\n",
        "    patch.data['timeless_example'] = timeless_data\n",
        "except ValueError as e:\n",
        "    print(e)"
      ],
      "outputs": [],
      "execution_count": null,
      "metadata": {
        "collapsed": false,
        "outputHidden": false,
        "inputHidden": false
      }
    },
    {
      "cell_type": "code",
      "source": [
        "# there is a different FeatureType available for data without a time component\n",
        "patch.data_timeless['timeless_example'] = timeless_data"
      ],
      "outputs": [],
      "execution_count": null,
      "metadata": {
        "collapsed": false,
        "outputHidden": false,
        "inputHidden": false
      }
    },
    {
      "cell_type": "code",
      "source": [
        "# try to add data to other FeatureTypes, use https://eo-learn.readthedocs.io/en/latest/examples/core/CoreOverview.html#EOPatch for reference\n",
        "import geopandas as gpd\n",
        "from datetime import datetime\n",
        "from sentinelhub import BBox, CRS\n",
        "\n",
        "patch.mask['shadow masks'] = np.zeros((5, 6, 6, 2), dtype=np.bool)\n",
        "patch.scalar['weather data'] = np.zeros((5, 3), dtype=np.float)\n",
        "patch.label['classification'] = np.zeros((5, 1), dtype=np.bool)\n",
        "\n",
        "\n",
        "vector = gpd.read_file('eastern_france.geojson')\n",
        "vector.insert(1, 'TIMESTAMP', datetime.now())\n",
        "patch.vector['land use vectors'] = vector\n",
        "\n",
        "patch.mask_timeless['district_boundaries_raster'] = np.zeros((6, 6, 2), dtype=np.uint8)\n",
        "patch.scalar_timeless['single patch value'] = np.array([5.])\n",
        "patch.label_timeless['another patch value'] = np.array([True])\n",
        "patch.vector_timeless['region_boundaries'] = gpd.read_file('eastern_france.geojson')\n",
        "\n",
        "patch.meta_info = dict(any_property={ 'a': 5, 'b': 3 })\n",
        "patch.bbox = BBox([24.5, 45.5, 25.5, 46.5], crs=CRS.WGS84)\n",
        "patch.timestamp = [datetime.now()]\n",
        "\n",
        "patch.get_features()"
      ],
      "outputs": [],
      "execution_count": null,
      "metadata": {
        "collapsed": false,
        "outputHidden": false,
        "inputHidden": false
      }
    },
    {
      "cell_type": "code",
      "source": [
        "# we can save and load our patch; check out the file structure it creates\n",
        "patch.save('example_patch')\n",
        "patch2 = patch.load('example_patch')\n",
        "patch2.get_features()"
      ],
      "outputs": [],
      "execution_count": null,
      "metadata": {
        "collapsed": false,
        "outputHidden": false,
        "inputHidden": false
      }
    },
    {
      "cell_type": "markdown",
      "source": [
        "### EOTask\n",
        "- an **abstract representation of an operation over remotely sensed data** over a single area; the base processing class of `eo-learn`\n",
        "- must have an `execute` method which generally accepts an `EOPatch` instance as its first argument\n",
        "- provides consistency of operation, chainable, predictable outputs\n",
        "- many `EOTasks` are already available in the library (60+ at the time of writing)"
      ],
      "metadata": {}
    },
    {
      "cell_type": "code",
      "source": [
        "# let's start with a simple one to understand the concept\n",
        "# AddFeature performs the same operation we were doing before but in EOTask form\n",
        "from eolearn.core import AddFeature, FeatureType\n",
        "\n",
        "# specify the feature type and name, then instantiate the task (but not call it yet)\n",
        "feature = (FeatureType.DATA, 'bands')\n",
        "add_feature = AddFeature(feature)\n",
        "\n",
        "# now we can execute the task, on our previous patch\n",
        "data = np.zeros((5, 100, 100, 13))\n",
        "patch = add_feature.execute(patch, data)\n",
        "patch"
      ],
      "outputs": [],
      "execution_count": null,
      "metadata": {
        "collapsed": false,
        "outputHidden": false,
        "inputHidden": false
      }
    },
    {
      "cell_type": "code",
      "source": [
        "# now let's try a more substantial task\n",
        "from eolearn.io import S2L1CWCSInput\n",
        "\n",
        "# we'll make a new empty EOPatch over the conference for this\n",
        "patch = EOPatch()\n",
        "patch.bbox = BBox([26.08, 44.42, 26.14, 44.46], crs=CRS.WGS84)\n",
        "\n",
        "# now we can load Sentinel-2 data into the patch\n",
        "# first instantiate the task with a Sentinel Hub layer and our desired resolution\n",
        "load_s2 = S2L1CWCSInput('TRUE-COLOR-S2-L1C', resx='10m', resy='10m')\n",
        "\n",
        "# then call the task's execute method with our patch and a time interval\n",
        "load_s2.execute(eopatch=patch, time_interval=('2019-08-23', '2019-08-27'))\n"
      ],
      "outputs": [],
      "execution_count": null,
      "metadata": {
        "collapsed": false,
        "outputHidden": false,
        "inputHidden": false
      }
    },
    {
      "cell_type": "code",
      "source": [
        "# since the data is a numpy array, let's try visualizing it with matplotlib\n",
        "from matplotlib import pyplot as plt\n",
        "plt.imshow(patch.data['TRUE-COLOR-S2-L1C'][0])"
      ],
      "outputs": [],
      "execution_count": null,
      "metadata": {
        "collapsed": false,
        "outputHidden": false,
        "inputHidden": false
      }
    },
    {
      "cell_type": "code",
      "source": [
        "# try with other resolutions, layers, date ranges or areas\n",
        "# also notice the additional information that the task adds to mask, meta_info and timestamp\n",
        "patch = EOPatch()\n",
        "patch.bbox = BBox((-77.04, 38.90, -77, 38.96), crs=CRS.WGS84)\n",
        "\n",
        "load_s2 = S2L1CWCSInput('BANDS-S2-L1C', resx='20m', resy='20m') # all bands\n",
        "load_s2.execute(eopatch=patch, time_interval=('2019-08-01', '2019-08-06'))"
      ],
      "outputs": [],
      "execution_count": null,
      "metadata": {
        "collapsed": false,
        "outputHidden": false,
        "inputHidden": false
      }
    },
    {
      "cell_type": "code",
      "source": [
        "# now let's add some vector data, load a local file containing buildings\n",
        "buildings = gpd.read_file('bucharest_buildings.geojson')"
      ],
      "outputs": [],
      "execution_count": null,
      "metadata": {
        "collapsed": false,
        "outputHidden": false,
        "inputHidden": false
      }
    },
    {
      "cell_type": "code",
      "source": [
        "# we can add this file as either a vector (directly) or try transforming it to a raster\n",
        "from eolearn.geometry import VectorToRaster\n",
        "vtr_task = VectorToRaster(\n",
        "    buildings,\n",
        "    values=1,\n",
        "    raster_shape=(FeatureType.DATA, 'TRUE-COLOR-S2-L1C'), # match the shape of our previous data\n",
        "    raster_feature=(FeatureType.MASK_TIMELESS, 'BUILDING-DATA') # name our new layer\n",
        ")\n",
        "\n",
        "vtr_task.execute(eopatch=patch)"
      ],
      "outputs": [],
      "execution_count": null,
      "metadata": {
        "collapsed": false,
        "outputHidden": false,
        "inputHidden": false
      }
    },
    {
      "cell_type": "code",
      "source": [
        "# now look at the buildings (also congrats, you're 50% of the way to being a geospatial machine learning engineer)\n",
        "plt.imshow(patch.mask_timeless['BUILDING-DATA'].squeeze(2))"
      ],
      "outputs": [],
      "execution_count": null,
      "metadata": {
        "collapsed": false,
        "outputHidden": false,
        "inputHidden": false
      }
    },
    {
      "cell_type": "code",
      "source": [
        "# we can also implement our own tasks, they need to:\n",
        "# - inherit from the EOTask class\n",
        "# - implement an __init__ method\n",
        "# - implement an execute method which accepts an EOPatch as the first argument\n",
        "\n",
        "# here's a template, try it out!\n",
        "from eolearn.core import EOTask\n",
        "    \n",
        "# create a task for calculating a median pixel value\n",
        "class MedianPixel(EOTask):\n",
        "    \"\"\"\n",
        "    The task returns a pixelwise median value from a time-series and stores the results in a \n",
        "    timeless data array.\n",
        "    \"\"\"\n",
        "    def __init__(self, input_feature, output_feature):\n",
        "        self.input_feature = input_feature\n",
        "        self.output_feature = output_feature\n",
        "\n",
        "    def execute(self, eopatch):\n",
        "        median = np.median(eopatch[self.input_feature[0]][self.input_feature[1]], axis=0)\n",
        "        eopatch.add_feature(*self.output_feature, median)\n",
        "        return eopatch\n",
        "    \n",
        "median_task = MedianPixel((FeatureType.DATA, 'time_series'), (FeatureType.DATA_TIMELESS, 'median'))\n",
        "median_task.execute(patch)"
      ],
      "outputs": [],
      "execution_count": null,
      "metadata": {
        "collapsed": false,
        "outputHidden": false,
        "inputHidden": false
      }
    },
    {
      "cell_type": "code",
      "source": [
        "# finally let's save our patch\n",
        "from eolearn.core import SaveToDisk, OverwritePermission\n",
        "\n",
        "save = SaveToDisk('example', overwrite_permission=OverwritePermission.OVERWRITE_PATCH)\n",
        "\n",
        "save.execute(eopatch=patch, eopatch_folder='this_patch')"
      ],
      "outputs": [],
      "execution_count": null,
      "metadata": {
        "collapsed": false,
        "outputHidden": false,
        "inputHidden": false
      }
    },
    {
      "cell_type": "markdown",
      "source": [
        "## EOWorkflow\n",
        "\n",
        "- a **combination of `EOTask` objects** meant to accomplish a larger project\n",
        "- builds a computational graph object to ensure all patches are processed in the same fashion"
      ],
      "metadata": {}
    },
    {
      "cell_type": "code",
      "source": [
        "# rather than call .execute directly, let chain our tasks together\n",
        "from eolearn.core import LinearWorkflow\n",
        "\n",
        "workflow = LinearWorkflow(load_s2, vtr_task, save)"
      ],
      "outputs": [],
      "execution_count": null,
      "metadata": {
        "collapsed": false,
        "outputHidden": false,
        "inputHidden": false
      }
    },
    {
      "cell_type": "code",
      "source": [
        "# now we can call this on any number of patches and pass the execution arguments to the workflow\n",
        "patch = EOPatch()\n",
        "bbox = BBox([26.08, 44.42, 26.14, 44.46], crs=CRS.WGS84)\n",
        "patch.bbox = bbox\n",
        "patches = [patch]\n",
        "\n",
        "for patch in patches:\n",
        "    workflow.execute({\n",
        "        load_s2: { 'time_interval': ('2019-08-23', '2019-08-27'), 'bbox': bbox },\n",
        "        vtr_task: {},\n",
        "        save: { 'eopatch_folder': 'patch_idx' }\n",
        "    }).eopatch()\n",
        "    \n"
      ],
      "outputs": [],
      "execution_count": null,
      "metadata": {
        "collapsed": false,
        "outputHidden": false,
        "inputHidden": false
      }
    },
    {
      "cell_type": "markdown",
      "source": [
        "## Practice\n",
        "\n",
        "Take some time to experiment with different tasks and parameters before starting a larger workflow"
      ],
      "metadata": {}
    }
  ],
  "metadata": {
    "kernel_info": {
      "name": "query-planet37"
    },
    "language_info": {
      "name": "python",
      "version": "3.7.2",
      "mimetype": "text/x-python",
      "codemirror_mode": {
        "name": "ipython",
        "version": 3
      },
      "pygments_lexer": "ipython3",
      "nbconvert_exporter": "python",
      "file_extension": ".py"
    },
    "kernelspec": {
      "name": "query-planet37",
      "language": "python",
      "display_name": "Python Query Planet 3.7.2"
    },
    "nteract": {
      "version": "0.14.4"
    }
  },
  "nbformat": 4,
  "nbformat_minor": 0
}