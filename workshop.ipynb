{
  "cells": [
    {
      "cell_type": "markdown",
      "source": [
        "Summary of workshop content\n",
        "- Fundamentals of eo-learn\n",
        "- basic data fetching\n",
        "- write custom task\n",
        "- review larger workflow"
      ],
      "metadata": {}
    },
    {
      "cell_type": "code",
      "source": [
        "# test imports\n",
        "\n",
        "%reload_ext autoreload\n",
        "%autoreload 2\n",
        "%matplotlib inline\n",
        "\n",
        "\n",
        "import numpy as np\n",
        "import geopandas as gpd\n",
        "import matplotlib as mpl\n",
        "import matplotlib.pyplot as plt\n",
        "from shapely.geometry import Polygon\n",
        "from tqdm import tqdm_notebook as tqdm\n",
        "\n",
        "import lightgbm as lgb\n",
        "from sklearn.externals import joblib\n",
        "from sklearn import metrics\n",
        "from sklearn import preprocessing\n",
        "\n",
        "from eolearn.core import EOTask, EOPatch, LinearWorkflow, FeatureType, OverwritePermission, \\\n",
        "    LoadFromDisk, SaveToDisk, EOExecutor\n",
        "from eolearn.io import S2L1CWCSInput, ExportToTiff\n",
        "from eolearn.mask import AddCloudMaskTask, get_s2_pixel_cloud_detector, AddValidDataMaskTask\n",
        "from eolearn.geometry import VectorToRaster, PointSamplingTask, ErosionTask\n",
        "from eolearn.features import LinearInterpolation, SimpleFilterTask\n",
        "from sentinelhub import BBoxSplitter, BBox, CRS, CustomUrlParam"
      ],
      "outputs": [],
      "execution_count": null,
      "metadata": {
        "collapsed": false,
        "outputHidden": false,
        "inputHidden": false
      }
    },
    {
      "cell_type": "code",
      "source": [],
      "outputs": [],
      "execution_count": null,
      "metadata": {
        "collapsed": false,
        "outputHidden": false,
        "inputHidden": false
      }
    }
  ],
  "metadata": {
    "kernel_info": {
      "name": "query-planet37"
    },
    "language_info": {
      "name": "python",
      "version": "3.7.2",
      "mimetype": "text/x-python",
      "codemirror_mode": {
        "name": "ipython",
        "version": 3
      },
      "pygments_lexer": "ipython3",
      "nbconvert_exporter": "python",
      "file_extension": ".py"
    },
    "kernelspec": {
      "name": "query-planet37",
      "language": "python",
      "display_name": "Python Query Planet 3.7.2"
    },
    "nteract": {
      "version": "0.14.4"
    }
  },
  "nbformat": 4,
  "nbformat_minor": 0
}